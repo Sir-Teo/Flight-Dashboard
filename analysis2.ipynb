{
 "cells": [
  {
   "cell_type": "code",
   "execution_count": 2,
   "metadata": {},
   "outputs": [
    {
     "name": "stderr",
     "output_type": "stream",
     "text": [
      "/var/folders/cg/4dvsxst920bcby29c1jgnx280000gn/T/ipykernel_2579/3893130530.py:5: DtypeWarning: Columns (6,17,22,23,24,25,26,28) have mixed types. Specify dtype option on import or set low_memory=False.\n",
      "  df = pd.read_csv(file_path)\n"
     ]
    }
   ],
   "source": [
    "import pandas as pd\n",
    "\n",
    "# Load the CSV file to check its contents\n",
    "file_path = 'parsed_data.csv'\n",
    "df = pd.read_csv(file_path)\n",
    "\n"
   ]
  },
  {
   "cell_type": "code",
   "execution_count": 3,
   "metadata": {},
   "outputs": [
    {
     "data": {
      "text/html": [
       "<div>\n",
       "<style scoped>\n",
       "    .dataframe tbody tr th:only-of-type {\n",
       "        vertical-align: middle;\n",
       "    }\n",
       "\n",
       "    .dataframe tbody tr th {\n",
       "        vertical-align: top;\n",
       "    }\n",
       "\n",
       "    .dataframe thead th {\n",
       "        text-align: right;\n",
       "    }\n",
       "</style>\n",
       "<table border=\"1\" class=\"dataframe\">\n",
       "  <thead>\n",
       "    <tr style=\"text-align: right;\">\n",
       "      <th></th>\n",
       "      <th>Client Name</th>\n",
       "      <th>Average Unique Competitors</th>\n",
       "    </tr>\n",
       "  </thead>\n",
       "  <tbody>\n",
       "    <tr>\n",
       "      <th>0</th>\n",
       "      <td>AS</td>\n",
       "      <td>2.670051</td>\n",
       "    </tr>\n",
       "    <tr>\n",
       "      <th>1</th>\n",
       "      <td>B6</td>\n",
       "      <td>2.700521</td>\n",
       "    </tr>\n",
       "    <tr>\n",
       "      <th>2</th>\n",
       "      <td>SK</td>\n",
       "      <td>2.670886</td>\n",
       "    </tr>\n",
       "    <tr>\n",
       "      <th>3</th>\n",
       "      <td>WN</td>\n",
       "      <td>1.932373</td>\n",
       "    </tr>\n",
       "  </tbody>\n",
       "</table>\n",
       "</div>"
      ],
      "text/plain": [
       "  Client Name  Average Unique Competitors\n",
       "0          AS                    2.670051\n",
       "1          B6                    2.700521\n",
       "2          SK                    2.670886\n",
       "3          WN                    1.932373"
      ]
     },
     "execution_count": 3,
     "metadata": {},
     "output_type": "execute_result"
    }
   ],
   "source": [
    "# Group by Client Name, origin city code, and destination city code, then calculate unique competitors for each route\n",
    "unique_competitors = df.groupby(['Client Name', 'origincity_code', 'destcity_code'])['competitors'].nunique().reset_index()\n",
    "\n",
    "# Now, calculate the average number of unique competitors per route for each Client Name\n",
    "average_competitors_per_client = unique_competitors.groupby('Client Name')['competitors'].mean().reset_index()\n",
    "\n",
    "# Rename columns for clarity\n",
    "average_competitors_per_client.columns = ['Client Name', 'Average Unique Competitors']\n",
    "\n",
    "average_competitors_per_client"
   ]
  },
  {
   "cell_type": "code",
   "execution_count": 4,
   "metadata": {},
   "outputs": [],
   "source": [
    "client_depart_days_count_aggregated = df.groupby(\n",
    "    ['Client Name', 'origincity_code', 'origincity_lat', 'origincity_long', 'destcity_code', 'destcity_lat', 'destcity_long']\n",
    ").agg(\n",
    "    Depart_Days_Count_Sum=('Depart Days Count', 'sum'),  # Summing the \"Depart Days Count\"\n",
    "    all_competitors=('competitors', lambda x: ','.join(set(x.dropna()))),  # Concatenating unique competitors with \",\"\n",
    "    competitor_count=('competitors', lambda x: len(set(x.dropna())))  # Counting unique competitors\n",
    ").reset_index()"
   ]
  },
  {
   "cell_type": "code",
   "execution_count": 6,
   "metadata": {},
   "outputs": [],
   "source": [
    "client_depart_days_count_aggregated.to_csv('client_depart_days_count_aggregated.csv', index=False)"
   ]
  },
  {
   "cell_type": "code",
   "execution_count": null,
   "metadata": {},
   "outputs": [],
   "source": []
  }
 ],
 "metadata": {
  "kernelspec": {
   "display_name": "base",
   "language": "python",
   "name": "python3"
  },
  "language_info": {
   "codemirror_mode": {
    "name": "ipython",
    "version": 3
   },
   "file_extension": ".py",
   "mimetype": "text/x-python",
   "name": "python",
   "nbconvert_exporter": "python",
   "pygments_lexer": "ipython3",
   "version": "3.9.18"
  }
 },
 "nbformat": 4,
 "nbformat_minor": 2
}
